{
 "cells": [
  {
   "cell_type": "markdown",
   "id": "56c9cf1d",
   "metadata": {},
   "source": [
    "## DDL"
   ]
  },
  {
   "cell_type": "markdown",
   "id": "59e36d0f",
   "metadata": {},
   "source": [
    "1.Task\n",
    "\n",
    "CREATE TABLE airline_info (\n",
    "  airline_id         INT GENERATED ALWAYS AS IDENTITY PRIMARY KEY,\n",
    "  airline_code       VARCHAR(30)    NOT NULL,\n",
    "  airline_name       VARCHAR(50)    NOT NULL,\n",
    "  airline_country    VARCHAR(50)    NOT NULL,\n",
    "  created_at         TIMESTAMP      NOT NULL DEFAULT NOW(),\n",
    "  updated_at         TIMESTAMP      NOT NULL DEFAULT NOW(),\n",
    "  info               VARCHAR(50)    NOT NULL\n",
    ");\n",
    "\n",
    "CREATE TABLE airport (\n",
    "  airport_id         INT GENERATED ALWAYS AS IDENTITY PRIMARY KEY,\n",
    "  airport_name       VARCHAR(50)    NOT NULL,\n",
    "  country            VARCHAR(50)    NOT NULL,\n",
    "  state              VARCHAR(50)    NOT NULL,\n",
    "  city               VARCHAR(50)    NOT NULL,\n",
    "  created_at         TIMESTAMP      NOT NULL DEFAULT NOW(),\n",
    "  updated_at         TIMESTAMP      NOT NULL DEFAULT NOW()\n",
    ");\n",
    "\n",
    "CREATE TABLE passengers (\n",
    "  passenger_id             INT GENERATED ALWAYS AS IDENTITY PRIMARY KEY,\n",
    "  first_name               VARCHAR(50) NOT NULL,\n",
    "  last_name                VARCHAR(50) NOT NULL,\n",
    "  date_of_birth            DATE        NOT NULL,\n",
    "  gender                   VARCHAR(50) NOT NULL,\n",
    "  country_of_citizenship   VARCHAR(50) NOT NULL,\n",
    "  country_of_residence     VARCHAR(50) NOT NULL,\n",
    "  passport_number          VARCHAR(20) NOT NULL,\n",
    "  created_at               TIMESTAMP   NOT NULL DEFAULT NOW(),\n",
    "  updated_at               TIMESTAMP   NOT NULL DEFAULT NOW()\n",
    ");\n",
    "\n",
    "CREATE TABLE flights (\n",
    "  flight_id            INT GENERATED ALWAYS AS IDENTITY PRIMARY KEY,\n",
    "  sch_departure_time   TIMESTAMP   NOT NULL,\n",
    "  sch_arrival_time     TIMESTAMP   NOT NULL,\n",
    "  departing_airport_id INT         NOT NULL,\n",
    "  arriving_airport_id  INT         NOT NULL,\n",
    "  departing_gate       VARCHAR(50) NOT NULL,\n",
    "  arriving_gate        VARCHAR(50) NOT NULL,\n",
    "  airline_id           INT         NOT NULL,\n",
    "  act_departure_time   TIMESTAMP   NOT NULL,\n",
    "  act_arrival_time     TIMESTAMP   NOT NULL,\n",
    "  created_at           TIMESTAMP   NOT NULL DEFAULT NOW(),\n",
    "  updated_at           TIMESTAMP   NOT NULL DEFAULT NOW()\n",
    ");\n",
    "\n",
    "CREATE TABLE booking (\n",
    "  booking_id       INT GENERATED ALWAYS AS IDENTITY PRIMARY KEY,\n",
    "  flight_id        INT         NOT NULL,\n",
    "  passenger_id     INT         NOT NULL,\n",
    "  booking_platform VARCHAR(50) NOT NULL,\n",
    "  created_at       TIMESTAMP   NOT NULL DEFAULT NOW(),\n",
    "  updated_at       TIMESTAMP   NOT NULL DEFAULT NOW(),\n",
    "  status           VARCHAR(50) NOT NULL,\n",
    "  price            DECIMAL(7,2) NOT NULL\n",
    ");\n",
    "\n",
    "CREATE TABLE booking_flight (\n",
    "  booking_flight_id INT GENERATED ALWAYS AS IDENTITY PRIMARY KEY,\n",
    "  booking_id        INT NOT NULL,\n",
    "  flight_id         INT NOT NULL,\n",
    "  created_at        TIMESTAMP NOT NULL DEFAULT NOW(),\n",
    "  updated_at        TIMESTAMP NOT NULL DEFAULT NOW()\n",
    ");\n",
    "\n",
    "CREATE TABLE boarding_pass (\n",
    "  boarding_pass_id  INT GENERATED ALWAYS AS IDENTITY PRIMARY KEY,\n",
    "  booking_id        INT         NOT NULL,\n",
    "  seat              VARCHAR(50) NOT NULL,\n",
    "  boarding_time     TIMESTAMP   NOT NULL,\n",
    "  created_at        TIMESTAMP   NOT NULL DEFAULT NOW(),\n",
    "  updated_at        TIMESTAMP   NOT NULL DEFAULT NOW()\n",
    ");\n",
    "\n",
    "CREATE TABLE baggage (\n",
    "  baggage_id        INT GENERATED ALWAYS AS IDENTITY PRIMARY KEY,\n",
    "  weight_in_kg      DECIMAL(4,2) NOT NULL,\n",
    "  created_at        TIMESTAMP    NOT NULL DEFAULT NOW(),\n",
    "  updated_at        TIMESTAMP    NOT NULL DEFAULT NOW(),\n",
    "  booking_id        INT          NOT NULL\n",
    ");\n",
    "\n",
    "CREATE TABLE baggage_check (\n",
    "  baggage_check_id  INT GENERATED ALWAYS AS IDENTITY PRIMARY KEY,\n",
    "  check_result      VARCHAR(50) NOT NULL,\n",
    "  created_at        TIMESTAMP   NOT NULL DEFAULT NOW(),\n",
    "  updated_at        TIMESTAMP   NOT NULL DEFAULT NOW(),\n",
    "  booking_id        INT         NOT NULL,\n",
    "  passenger_id      INT         NOT NULL\n",
    ");\n",
    "\n",
    "CREATE TABLE security_check (\n",
    "  security_check_id INT GENERATED ALWAYS AS IDENTITY PRIMARY KEY,\n",
    "  check_result      VARCHAR(20) NOT NULL,\n",
    "  created_at        TIMESTAMP   NOT NULL DEFAULT NOW(),\n",
    "  updated_at        TIMESTAMP   NOT NULL DEFAULT NOW(),\n",
    "  passenger_id      INT         NOT NULL\n",
    ");"
   ]
  },
  {
   "cell_type": "markdown",
   "id": "e1bc5a4b",
   "metadata": {},
   "source": [
    "2.done"
   ]
  },
  {
   "cell_type": "markdown",
   "id": "543f4d94",
   "metadata": {},
   "source": [
    "4.done"
   ]
  },
  {
   "cell_type": "markdown",
   "id": "1491a3e8",
   "metadata": {},
   "source": [
    "5.\n",
    "ALTER TABLE airline_info RENAME TO airline;"
   ]
  },
  {
   "cell_type": "markdown",
   "id": "a6b22e87",
   "metadata": {},
   "source": [
    "6.\n",
    "ALTER TABLE booking RENAME COLUMN price TO ticket_price;"
   ]
  },
  {
   "cell_type": "markdown",
   "id": "c97ec868",
   "metadata": {},
   "source": [
    "7.\n",
    "LTER TABLE flights ALTER COLUMN departing_gate TYPE TEXT;"
   ]
  },
  {
   "cell_type": "markdown",
   "id": "3bcaeea2",
   "metadata": {},
   "source": [
    "8.\n",
    "ALTER TABLE airline DROP COLUMN info;"
   ]
  },
  {
   "cell_type": "markdown",
   "id": "f6c04a91",
   "metadata": {},
   "source": [
    "9.\n",
    "ALTER TABLE booking\n",
    "  ADD CONSTRAINT fk_booking_passenger\n",
    "    FOREIGN KEY (passenger_id) REFERENCES passengers(passenger_id) ON DELETE CASCADE,\n",
    "  ADD CONSTRAINT fk_booking_flight\n",
    "    FOREIGN KEY (flight_id) REFERENCES flights(flight_id) ON DELETE CASCADE;\n",
    "\n",
    "-- booking_flight references booking and flights\n",
    "ALTER TABLE booking_flight\n",
    "  ADD CONSTRAINT fk_booking_flight__booking\n",
    "    FOREIGN KEY (booking_id) REFERENCES booking(booking_id) ON DELETE CASCADE,\n",
    "  ADD CONSTRAINT fk_booking_flight__flights\n",
    "    FOREIGN KEY (flight_id) REFERENCES flights(flight_id) ON DELETE CASCADE;\n",
    "\n",
    "-- boarding_pass references booking\n",
    "ALTER TABLE boarding_pass\n",
    "  ADD CONSTRAINT fk_boarding_pass__booking\n",
    "    FOREIGN KEY (booking_id) REFERENCES booking(booking_id) ON DELETE CASCADE;\n",
    "\n",
    "-- baggage references booking\n",
    "ALTER TABLE baggage\n",
    "  ADD CONSTRAINT fk_baggage__booking\n",
    "    FOREIGN KEY (booking_id) REFERENCES booking(booking_id) ON DELETE CASCADE;\n",
    "\n",
    "-- baggage_check references booking and passengers\n",
    "ALTER TABLE baggage_check\n",
    "  ADD CONSTRAINT fk_baggage_check__booking\n",
    "    FOREIGN KEY (booking_id) REFERENCES booking(booking_id) ON DELETE CASCADE,\n",
    "  ADD CONSTRAINT fk_baggage_check__passenger\n",
    "    FOREIGN KEY (passenger_id) REFERENCES passengers(passenger_id) ON DELETE CASCADE;\n",
    "\n",
    "-- security_check references passengers\n",
    "ALTER TABLE security_check\n",
    "  ADD CONSTRAINT fk_security_check__passenger\n",
    "    FOREIGN KEY (passenger_id) REFERENCES passengers(passenger_id) ON DELETE CASCADE;\n",
    "\n",
    "-- flights references airport (departing/arriving) and airline\n",
    "ALTER TABLE flights\n",
    "  ADD CONSTRAINT fk_flights__departing_airport\n",
    "    FOREIGN KEY (departing_airport_id) REFERENCES airport(airport_id) ON DELETE RESTRICT,\n",
    "  ADD CONSTRAINT fk_flights__arriving_airport\n",
    "    FOREIGN KEY (arriving_airport_id) REFERENCES airport(airport_id) ON DELETE RESTRICT,\n",
    "  ADD CONSTRAINT fk_flights__airline\n",
    "    FOREIGN KEY (airline_id) REFERENCES airline(airline_id) ON DELETE RESTRICT;"
   ]
  },
  {
   "cell_type": "markdown",
   "id": "c4c1c992",
   "metadata": {},
   "source": [
    "## DML"
   ]
  },
  {
   "cell_type": "markdown",
   "id": "c8a5003e",
   "metadata": {},
   "source": [
    "1.WITH\n",
    "countries AS (\n",
    "  SELECT UNNEST(ARRAY[\n",
    "    'Kazakhstan','Turkey','France','Brazil','Poland','USA','Germany','Spain','Italy','Canada',\n",
    "    'UK','UAE','Qatar','Japan','Korea','India','China','Australia','Mexico','Netherlands'\n",
    "  ]) AS country\n",
    "),\n",
    "states AS (\n",
    "  SELECT UNNEST(ARRAY[\n",
    "    'Almaty Region','Akmola','Ankara','Istanbul','Île‑de‑France','São Paulo','Mazowieckie','Lesser Poland',\n",
    "    'California','Texas','Bavaria','Catalonia','Lombardy','Ontario','England','Dubai','Doha','Tokyo',\n",
    "    'Seoul','Delhi','Beijing','NSW','Jalisco','Noord‑Holland'\n",
    "  ]) AS state\n",
    "),\n",
    "cities AS (\n",
    "  SELECT UNNEST(ARRAY[\n",
    "    'Almaty','Astana','Ankara','Istanbul','Paris','São Paulo','Warsaw','Kraków',\n",
    "    'Los Angeles','San Francisco','Munich','Barcelona','Milan','Toronto','London',\n",
    "    'Dubai','Doha','Tokyo','Seoul','New Delhi','Beijing','Sydney','Guadalajara','Amsterdam'\n",
    "  ]) AS city\n",
    ")\n",
    "INSERT INTO airport (airport_name, country, state, city)\n",
    "SELECT\n",
    "  'Airport ' || gs::TEXT AS airport_name,\n",
    "  (SELECT country FROM countries ORDER BY random() LIMIT 1) AS country,\n",
    "  (SELECT state   FROM states    ORDER BY random() LIMIT 1) AS state,\n",
    "  (SELECT city    FROM cities    ORDER BY random() LIMIT 1) AS city\n",
    "FROM generate_series(1,200) AS gs;"
   ]
  },
  {
   "cell_type": "markdown",
   "id": "7ee95c34",
   "metadata": {},
   "source": [
    "2.\n",
    "INSERT INTO airline (airline_code, airline_name, airline_country)\n",
    "VALUES ('KZ','KazAir','Kazakhstan');"
   ]
  },
  {
   "cell_type": "markdown",
   "id": "1903df4f",
   "metadata": {},
   "source": [
    "3.\n",
    "UPDATE airline\n",
    "   SET airline_country = 'Turkey',\n",
    "       updated_at = NOW()\n",
    " WHERE airline_name = 'KazAir';\n",
    " "
   ]
  },
  {
   "cell_type": "markdown",
   "id": "13e91c42",
   "metadata": {},
   "source": [
    "4.\n",
    "INSERT INTO airline (airline_code, airline_name, airline_country)\n",
    "VALUES\n",
    "  ('AE','AirEasy','France'),\n",
    "  ('FH','FlyHigh','Brazil'),\n",
    "  ('FF','FlyFly','Poland');"
   ]
  },
  {
   "cell_type": "markdown",
   "id": "69971efe",
   "metadata": {},
   "source": [
    "5.\n",
    "DELETE FROM flights\n",
    " WHERE EXTRACT(YEAR FROM act_arrival_time) = 2024\n",
    "    OR EXTRACT(YEAR FROM sch_arrival_time) = 2024;"
   ]
  },
  {
   "cell_type": "markdown",
   "id": "6fc88139",
   "metadata": {},
   "source": [
    "6.\n",
    "UPDATE booking\n",
    "   SET ticket_price = ROUND(ticket_price * 1.15, 2),\n",
    "       updated_at = NOW();"
   ]
  },
  {
   "cell_type": "markdown",
   "id": "3e5ecfca",
   "metadata": {},
   "source": [
    "7.\n",
    "DELETE FROM booking\n",
    " WHERE ticket_price < 10000;"
   ]
  }
 ],
 "metadata": {
  "language_info": {
   "name": "python"
  }
 },
 "nbformat": 4,
 "nbformat_minor": 5
}
